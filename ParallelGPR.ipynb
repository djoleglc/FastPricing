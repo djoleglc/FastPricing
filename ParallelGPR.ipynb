{
 "cells": [
  {
   "cell_type": "code",
   "execution_count": 1,
   "id": "0b6c4f9c",
   "metadata": {},
   "outputs": [],
   "source": [
    "from ParallelGPR import ParallelGPR, fitParallelGPR\n",
    "import pandas as pd\n",
    "import time \n",
    "import numpy as np \n",
    "from TestPerformance import test_performanceGPR\n"
   ]
  },
  {
   "cell_type": "code",
   "execution_count": 2,
   "id": "8d6cc825",
   "metadata": {},
   "outputs": [],
   "source": [
    "#training set used to train the Parallel GPR\n",
    "dataset = \"HestonTrainXL.csv\"\n",
    "#mm = fitParallelGPR(dataset, number_models = 40, name_model = \"Parallel40\", save = True)"
   ]
  },
  {
   "cell_type": "code",
   "execution_count": 3,
   "id": "2c361f66",
   "metadata": {},
   "outputs": [],
   "source": [
    "#loading a pretrained model \n",
    "mm = ParallelGPR(40)\n",
    "mm.load(\"Parallel40\")"
   ]
  },
  {
   "cell_type": "code",
   "execution_count": 4,
   "id": "47559cca",
   "metadata": {},
   "outputs": [
    {
     "name": "stdout",
     "output_type": "stream",
     "text": [
      "HestonTestS.csv\n",
      "Time:  8.80014944076538\n",
      "AAE:  2.95e-04\n",
      "MAE:  1.14e-02\n",
      "\n",
      "\n",
      "HestonTestM.csv\n",
      "Time:  11.30164647102356\n",
      "AAE:  2.77e-04\n",
      "MAE:  8.81e-03\n",
      "\n",
      "\n",
      "HestonTestL.csv\n",
      "Time:  20.480493307113647\n",
      "AAE:  2.80e-04\n",
      "MAE:  1.17e-02\n",
      "\n",
      "\n"
     ]
    }
   ],
   "source": [
    "#testing the perfomance of this model \n",
    "datasets = [\"HestonTestS.csv\", \"HestonTestM.csv\", \"HestonTestL.csv\"]\n",
    "for dataset in datasets:\n",
    "    print(dataset)\n",
    "    df = pd.read_csv(dataset).to_numpy()[:,1:]\n",
    "    X = df[:,1:]\n",
    "    y = df[:,0]\n",
    "    test_performanceGPR(X, y, mm, type_ = \"both\", to_return = False)\n",
    "    print(\"\\n\")"
   ]
  }
 ],
 "metadata": {
  "kernelspec": {
   "display_name": "Python 3 (ipykernel)",
   "language": "python",
   "name": "python3"
  },
  "language_info": {
   "codemirror_mode": {
    "name": "ipython",
    "version": 3
   },
   "file_extension": ".py",
   "mimetype": "text/x-python",
   "name": "python",
   "nbconvert_exporter": "python",
   "pygments_lexer": "ipython3",
   "version": "3.9.7"
  }
 },
 "nbformat": 4,
 "nbformat_minor": 5
}
