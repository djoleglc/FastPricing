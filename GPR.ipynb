{
 "cells": [
  {
   "cell_type": "code",
   "execution_count": 3,
   "metadata": {
    "id": "jRmz_HJ237hK"
   },
   "outputs": [],
   "source": [
    "from sklearn.gaussian_process import GaussianProcessRegressor\n",
    "import sklearn.gaussian_process.kernels as k\n",
    "import pandas as pd\n",
    "import numpy as np \n",
    "import time\n",
    "import scipy\n",
    "from optim import optim \n",
    "import time \n",
    "from joblib import dump, load\n",
    "from TestPerformance import test_performanceGPR\n",
    "from FitGPR import fitGPR\n",
    "from optim import *"
   ]
  },
  {
   "cell_type": "code",
   "execution_count": 4,
   "metadata": {},
   "outputs": [
    {
     "name": "stdout",
     "output_type": "stream",
     "text": [
      "Fitting Time:  113.81474733352661\n",
      "HestonTrain5000.csv\n",
      "Time:  0.5528686046600342\n",
      "AAE:  1.89e-07\n",
      "MAE:  2.99e-06\n",
      "\n",
      "\n",
      "HestonTestS.csv\n",
      "Time:  0.559288740158081\n",
      "AAE:  7.20e-04\n",
      "MAE:  2.06e-02\n",
      "\n",
      "\n",
      "HestonTestM.csv\n",
      "Time:  1.0471501350402832\n",
      "AAE:  6.82e-04\n",
      "MAE:  2.51e-02\n",
      "\n",
      "\n",
      "HestonTestL.csv\n",
      "Time:  2.1622211933135986\n",
      "AAE:  6.96e-04\n",
      "MAE:  3.04e-02\n",
      "\n",
      "\n"
     ]
    }
   ],
   "source": [
    "#name of the dataset\n",
    "name_dataset = \"HestonTrain5000.csv\"\n",
    "\n",
    "#defining the model to fit \n",
    "kernel = k.RBF()\n",
    "gprM = GaussianProcessRegressor(kernel = kernel, optimizer = optim, alpha = 1e-12, random_state = 10)\n",
    "\n",
    "#fit and save the model \n",
    "gprM = fitGPR(name = name_dataset, name_model = \"GPR5000.joblib\", model = gprM, save = True, time_ = True)\n",
    "\n",
    "#loading the model \n",
    "gprM = load(\"GPR5000.joblib\")\n",
    "\n",
    "#performance of the model \n",
    "datasets = [name_dataset, \"HestonTestS.csv\", \"HestonTestM.csv\", \"HestonTestL.csv\"]\n",
    "for dataset in datasets:\n",
    "    print(dataset)\n",
    "    df = pd.read_csv(dataset).to_numpy()[:,1:]\n",
    "    X = df[:,1:]\n",
    "    y = df[:,0]\n",
    "    test_performanceGPR(X, y, gprM, type_ = \"both\", to_return = False)\n",
    "    print(\"\\n\")"
   ]
  },
  {
   "cell_type": "code",
   "execution_count": 4,
   "metadata": {},
   "outputs": [
    {
     "name": "stdout",
     "output_type": "stream",
     "text": [
      "Fitting Time:  666.1788504123688\n",
      "HestonTrain10000.csv\n",
      "Time:  1.798882246017456\n",
      "AAE:  3.01e-07\n",
      "MAE:  5.07e-06\n",
      "\n",
      "\n",
      "HestonTestS.csv\n",
      "Time:  0.9088411331176758\n",
      "AAE:  6.38e-04\n",
      "MAE:  4.54e-02\n",
      "\n",
      "\n",
      "HestonTestM.csv\n",
      "Time:  1.8006129264831543\n",
      "AAE:  5.57e-04\n",
      "MAE:  2.89e-02\n",
      "\n",
      "\n",
      "HestonTestL.csv\n",
      "Time:  4.02551794052124\n",
      "AAE:  5.96e-04\n",
      "MAE:  4.57e-02\n",
      "\n",
      "\n"
     ]
    }
   ],
   "source": [
    "#name of the dataset\n",
    "name_dataset = \"HestonTrain10000.csv\"\n",
    "\n",
    "#defining the model to fit \n",
    "kernel = k.RBF()\n",
    "gprM = GaussianProcessRegressor(kernel=kernel, optimizer = optim, alpha = 1e-12, random_state = 10)\n",
    "\n",
    "#fit and save the model \n",
    "gprM = fitGPR(name = name_dataset, name_model = \"GPR10000.joblib\", model = gprM, save = True, time_ = True)\n",
    "\n",
    "#loading the model \n",
    "gprM = load(\"GPR10000.joblib\")\n",
    "\n",
    "#performance of the model \n",
    "datasets = [name_dataset, \"HestonTestS.csv\", \"HestonTestM.csv\", \"HestonTestL.csv\"]\n",
    "for dataset in datasets:\n",
    "    print(dataset)\n",
    "    df = pd.read_csv(dataset).to_numpy()[:,1:]\n",
    "    X = df[:,1:]\n",
    "    y = df[:,0]\n",
    "    test_performanceGPR(X, y, gprM, type_ = \"both\", to_return = False)\n",
    "    print(\"\\n\")\n"
   ]
  },
  {
   "cell_type": "code",
   "execution_count": 5,
   "metadata": {},
   "outputs": [
    {
     "name": "stdout",
     "output_type": "stream",
     "text": [
      "Fitting Time:  6033.491413116455\n",
      "HestonTrain20000.csv\n",
      "Time:  11.836717367172241\n",
      "AAE:  3.32e-07\n",
      "MAE:  8.40e-06\n",
      "\n",
      "\n",
      "HestonTestS.csv\n",
      "Time:  2.587151288986206\n",
      "AAE:  5.33e-04\n",
      "MAE:  2.08e-02\n",
      "\n",
      "\n",
      "HestonTestM.csv\n",
      "Time:  5.254427433013916\n",
      "AAE:  4.91e-04\n",
      "MAE:  2.42e-02\n",
      "\n",
      "\n",
      "HestonTestL.csv\n",
      "Time:  13.635922193527222\n",
      "AAE:  5.04e-04\n",
      "MAE:  2.24e-02\n",
      "\n",
      "\n"
     ]
    }
   ],
   "source": [
    "#name of the dataset\n",
    "name_dataset = \"HestonTrain20000.csv\"\n",
    "\n",
    "#defining the model to fit \n",
    "kernel = k.RBF()\n",
    "gprM = GaussianProcessRegressor(kernel=kernel, optimizer = optim, alpha = 1e-12, random_state = 10)\n",
    "\n",
    "#fit and save the model \n",
    "gprM = fitGPR(name = name_dataset, name_model = \"GPR20000.joblib\", model = gprM, save = True, time_ = True)\n",
    "\n",
    "#loading the model \n",
    "gprM = load(\"GPR20000.joblib\")\n",
    "\n",
    "#performance of the model \n",
    "datasets = [name_dataset, \"HestonTestS.csv\", \"HestonTestM.csv\", \"HestonTestL.csv\"]\n",
    "for dataset in datasets:\n",
    "    print(dataset)\n",
    "    df = pd.read_csv(dataset).to_numpy()[:,1:]\n",
    "    X = df[:,1:]\n",
    "    y = df[:,0]\n",
    "    test_performanceGPR(X, y, gprM, type_ = \"both\", to_return = False)\n",
    "    print(\"\\n\")\n"
   ]
  },
  {
   "cell_type": "code",
   "execution_count": null,
   "metadata": {},
   "outputs": [],
   "source": []
  }
 ],
 "metadata": {
  "colab": {
   "provenance": []
  },
  "gpuClass": "standard",
  "kernelspec": {
   "display_name": "Python 3 (ipykernel)",
   "language": "python",
   "name": "python3"
  },
  "language_info": {
   "codemirror_mode": {
    "name": "ipython",
    "version": 3
   },
   "file_extension": ".py",
   "mimetype": "text/x-python",
   "name": "python",
   "nbconvert_exporter": "python",
   "pygments_lexer": "ipython3",
   "version": "3.9.7"
  }
 },
 "nbformat": 4,
 "nbformat_minor": 4
}
