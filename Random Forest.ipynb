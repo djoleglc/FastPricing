{
 "cells": [
  {
   "cell_type": "code",
   "execution_count": 1,
   "metadata": {
    "id": "jRmz_HJ237hK"
   },
   "outputs": [],
   "source": [
    "import pandas as pd\n",
    "import numpy as np \n",
    "from HestonFFT import Call_Heston\n",
    "import time\n",
    "from joblib import dump, load \n",
    "from sklearn.metrics import make_scorer\n",
    "from sklearn.ensemble import RandomForestRegressor\n",
    "\n",
    "#note that here the function used to fit and to evalutate the GPR works also for the Random \n",
    "#Forest given that they are both function from sklearn, and for making the code \n",
    "#more readable we import the functions with this name\n",
    "from FitGPR import fitGPR as fitRF\n",
    "from TestPerformance import test_performanceGPR as test_performanceRF"
   ]
  },
  {
   "cell_type": "code",
   "execution_count": 2,
   "metadata": {},
   "outputs": [
    {
     "name": "stdout",
     "output_type": "stream",
     "text": [
      "Fitting Time:  8.975037336349487\n",
      "HestonTrainXL.csv\n",
      "Time:  0.4554736614227295\n",
      "AAE:  1.11e-03\n",
      "MAE:  1.13e-02\n",
      "\n",
      "\n",
      "HestonTestS.csv\n",
      "Time:  0.02999567985534668\n",
      "AAE:  2.86e-03\n",
      "MAE:  1.87e-02\n",
      "\n",
      "\n",
      "HestonTestM.csv\n",
      "Time:  0.05329561233520508\n",
      "AAE:  2.89e-03\n",
      "MAE:  3.06e-02\n",
      "\n",
      "\n",
      "HestonTestL.csv\n",
      "Time:  0.10208630561828613\n",
      "AAE:  2.77e-03\n",
      "MAE:  2.02e-02\n",
      "\n",
      "\n"
     ]
    }
   ],
   "source": [
    "#name of the dataset\n",
    "name_dataset = \"HestonTrainXL.csv\"\n",
    "\n",
    "#defining the model to fit \n",
    "rf = RandomForestRegressor(criterion = \"mse\", random_state=9, \n",
    "                           n_estimators = 50, n_jobs = 4, oob_score = True)\n",
    "\n",
    "#fit and save the model \n",
    "rf = fitRF(name = name_dataset, name_model = \"RFXL.joblib\", model = rf, save = True, time_ = True)\n",
    "\n",
    "#loading the model \n",
    "rf = load(\"RFXL.joblib\")\n",
    "\n",
    "#performance of the model \n",
    "datasets = [name_dataset, \"HestonTestS.csv\", \"HestonTestM.csv\", \"HestonTestL.csv\"]\n",
    "for dataset in datasets:\n",
    "    print(dataset)\n",
    "    df = pd.read_csv(dataset).to_numpy()[:,1:]\n",
    "    X = df[:,1:]\n",
    "    y = df[:,0]\n",
    "    test_performanceRF(X, y, rf, type_ = \"both\", to_return = False)\n",
    "    print(\"\\n\")\n"
   ]
  },
  {
   "cell_type": "code",
   "execution_count": 4,
   "metadata": {},
   "outputs": [
    {
     "name": "stdout",
     "output_type": "stream",
     "text": [
      "Fitting Time:  155.9973738193512\n",
      "HestonTrainXXL.csv\n",
      "Time:  10.997141122817993\n",
      "AAE:  6.63e-04\n",
      "MAE:  7.31e-03\n",
      "\n",
      "\n",
      "HestonTestS.csv\n",
      "Time:  0.06206035614013672\n",
      "AAE:  1.89e-03\n",
      "MAE:  2.09e-02\n",
      "\n",
      "\n",
      "HestonTestM.csv\n",
      "Time:  0.11593008041381836\n",
      "AAE:  1.83e-03\n",
      "MAE:  1.59e-02\n",
      "\n",
      "\n",
      "HestonTestL.csv\n",
      "Time:  0.2290198802947998\n",
      "AAE:  1.70e-03\n",
      "MAE:  1.90e-02\n",
      "\n",
      "\n"
     ]
    }
   ],
   "source": [
    "#name of the dataset\n",
    "name_dataset = \"HestonTrainXXL.csv\"\n",
    "\n",
    "#defining the model to fit \n",
    "rf = RandomForestRegressor(criterion = \"mse\", random_state=9, \n",
    "                           n_estimators = 50, n_jobs = 4, oob_score = True)\n",
    "\n",
    "#fit and save the model \n",
    "rf = fitRF(name = name_dataset, name_model = \"RFXXL.joblib\", model = rf, save = True, time_ = True)\n",
    "\n",
    "#loading the model \n",
    "rf = load(\"RFXXL.joblib\")\n",
    "\n",
    "#performance of the model \n",
    "datasets = [name_dataset, \"HestonTestS.csv\", \"HestonTestM.csv\", \"HestonTestL.csv\"]\n",
    "for dataset in datasets:\n",
    "    print(dataset)\n",
    "    df = pd.read_csv(dataset).to_numpy()[:,1:]\n",
    "    X = df[:,1:]\n",
    "    y = df[:,0]\n",
    "    test_performanceRF(X, y, rf, type_ = \"both\", to_return = False)\n",
    "    print(\"\\n\")"
   ]
  },
  {
   "cell_type": "code",
   "execution_count": null,
   "metadata": {},
   "outputs": [],
   "source": []
  }
 ],
 "metadata": {
  "colab": {
   "provenance": []
  },
  "gpuClass": "standard",
  "kernelspec": {
   "display_name": "Python 3 (ipykernel)",
   "language": "python",
   "name": "python3"
  },
  "language_info": {
   "codemirror_mode": {
    "name": "ipython",
    "version": 3
   },
   "file_extension": ".py",
   "mimetype": "text/x-python",
   "name": "python",
   "nbconvert_exporter": "python",
   "pygments_lexer": "ipython3",
   "version": "3.9.7"
  }
 },
 "nbformat": 4,
 "nbformat_minor": 1
}
