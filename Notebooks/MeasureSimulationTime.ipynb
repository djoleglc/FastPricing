{
 "cells": [
  {
   "cell_type": "code",
   "execution_count": 9,
   "id": "dfb89013",
   "metadata": {},
   "outputs": [
    {
     "name": "stdout",
     "output_type": "stream",
     "text": [
      "HestonTestS.csv\n",
      "Time: 24.248908042907715    -      Observations: 5000\n",
      "Time per Observation: 0.00484978\n",
      "\n",
      "\n",
      "HestonTestM.csv\n",
      "Time: 49.95286679267883    -      Observations: 10000\n",
      "Time per Observation: 0.00499529\n",
      "\n",
      "\n",
      "HestonTestL.csv\n",
      "Time: 102.64729142189026    -      Observations: 20000\n",
      "Time per Observation: 0.00513236\n",
      "\n",
      "\n"
     ]
    }
   ],
   "source": [
    "from HestonFFT import Call_Heston\n",
    "import numpy as np\n",
    "import scipy\n",
    "import math\n",
    "import scipy.integrate\n",
    "import pandas as pd\n",
    "import time\n",
    "from Simulation import TimeHestonFFT\n",
    "\n",
    "datasets = [\"HestonTestS.csv\", \"HestonTestM.csv\", \"HestonTestL.csv\"]\n",
    "\n",
    "\n",
    "for df_ in datasets:\n",
    "    df = pd.read_csv(df_).iloc[:, 1:]\n",
    "    t = TimeHestonFFT(df)\n",
    "    print(df_)\n",
    "    print(f\"Time: {t}    -      Observations: {len(df)}\")\n",
    "    print(f\"Time per Observation: { np.round(t/len(df), 8)}\")\n",
    "    print(\"\\n\")"
   ]
  },
  {
   "cell_type": "code",
   "execution_count": null,
   "id": "841ab8df",
   "metadata": {},
   "outputs": [],
   "source": []
  }
 ],
 "metadata": {
  "kernelspec": {
   "display_name": "Python 3 (ipykernel)",
   "language": "python",
   "name": "python3"
  },
  "language_info": {
   "codemirror_mode": {
    "name": "ipython",
    "version": 3
   },
   "file_extension": ".py",
   "mimetype": "text/x-python",
   "name": "python",
   "nbconvert_exporter": "python",
   "pygments_lexer": "ipython3",
   "version": "3.9.7"
  }
 },
 "nbformat": 4,
 "nbformat_minor": 5
}
